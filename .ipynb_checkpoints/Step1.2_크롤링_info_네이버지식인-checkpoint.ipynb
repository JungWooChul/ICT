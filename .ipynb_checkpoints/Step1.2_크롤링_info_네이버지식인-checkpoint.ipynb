{
 "cells": [
  {
   "cell_type": "code",
   "execution_count": 4,
   "id": "6c451bc2-2068-4c21-998b-4ffa78dffd5d",
   "metadata": {
    "scrolled": true,
    "tags": []
   },
   "outputs": [],
   "source": [
    "import time\n",
    "import numpy as np\n",
    "import pandas as pd\n",
    "import warnings; warnings.filterwarnings(action='ignore')\n",
    "\n",
    "from tqdm import tqdm\n",
    "from typing import Final\n",
    "from bs4 import BeautifulSoup as bs\n",
    "from selenium import webdriver as wd\n",
    "from selenium.common.exceptions import NoSuchElementException\n",
    "from selenium.webdriver.common.by import By\n",
    "from selenium.webdriver.common.keys import Keys\n",
    "from selenium.webdriver.support.ui import WebDriverWait\n",
    "from selenium.webdriver.support import expected_conditions as EC  \n",
    "\n",
    "options = wd.ChromeOptions()\n",
    "# options.add_argument(\"headless\")\n",
    "options.add_argument('window-size=1920x1080')\n",
    "options.add_argument('disable-gup')\n",
    "options.add_argument('user-agent=Mozilla/5.0 (Windows NT 10.0; Win64; x64) AppleWebKit/537.36 (KHTML, like Gecko) Chrome/100.0.4896.75 Safari/537.36')\n",
    "options.add_argument('lang=ko_KR')"
   ]
  },
  {
   "cell_type": "markdown",
   "id": "52f0242d-18ec-47ae-81ba-3526e2c396cc",
   "metadata": {},
   "source": [
    "### url 정보 호출"
   ]
  },
  {
   "cell_type": "code",
   "execution_count": 5,
   "id": "3916950e-f671-411c-8d08-02547870a93a",
   "metadata": {
    "tags": []
   },
   "outputs": [
    {
     "data": {
      "text/html": [
       "<div>\n",
       "<style scoped>\n",
       "    .dataframe tbody tr th:only-of-type {\n",
       "        vertical-align: middle;\n",
       "    }\n",
       "\n",
       "    .dataframe tbody tr th {\n",
       "        vertical-align: top;\n",
       "    }\n",
       "\n",
       "    .dataframe thead th {\n",
       "        text-align: right;\n",
       "    }\n",
       "</style>\n",
       "<table border=\"1\" class=\"dataframe\">\n",
       "  <thead>\n",
       "    <tr style=\"text-align: right;\">\n",
       "      <th></th>\n",
       "      <th>href</th>\n",
       "      <th>expert</th>\n",
       "    </tr>\n",
       "  </thead>\n",
       "  <tbody>\n",
       "    <tr>\n",
       "      <th>0</th>\n",
       "      <td>https://kin.naver.com/qna/detail.naver?d1id=7&amp;...</td>\n",
       "      <td>영양사답변</td>\n",
       "    </tr>\n",
       "    <tr>\n",
       "      <th>1</th>\n",
       "      <td>https://kin.naver.com/qna/detail.naver?d1id=7&amp;...</td>\n",
       "      <td>한의사답변</td>\n",
       "    </tr>\n",
       "    <tr>\n",
       "      <th>2</th>\n",
       "      <td>https://kin.naver.com/qna/detail.naver?d1id=7&amp;...</td>\n",
       "      <td>영양사답변</td>\n",
       "    </tr>\n",
       "    <tr>\n",
       "      <th>3</th>\n",
       "      <td>https://kin.naver.com/qna/detail.naver?d1id=7&amp;...</td>\n",
       "      <td>의사답변</td>\n",
       "    </tr>\n",
       "    <tr>\n",
       "      <th>4</th>\n",
       "      <td>https://kin.naver.com/qna/detail.naver?d1id=7&amp;...</td>\n",
       "      <td>의사답변</td>\n",
       "    </tr>\n",
       "  </tbody>\n",
       "</table>\n",
       "</div>"
      ],
      "text/plain": [
       "                                                href expert\n",
       "0  https://kin.naver.com/qna/detail.naver?d1id=7&...  영양사답변\n",
       "1  https://kin.naver.com/qna/detail.naver?d1id=7&...  한의사답변\n",
       "2  https://kin.naver.com/qna/detail.naver?d1id=7&...  영양사답변\n",
       "3  https://kin.naver.com/qna/detail.naver?d1id=7&...   의사답변\n",
       "4  https://kin.naver.com/qna/detail.naver?d1id=7&...   의사답변"
      ]
     },
     "execution_count": 5,
     "metadata": {},
     "output_type": "execute_result"
    }
   ],
   "source": [
    "url_df = pd.read_csv('C:/ENCLE_WCJUNG/02_mini_project_chatbot/url_info_rev0.1_wcjung.csv')\n",
    "url_df.head()"
   ]
  },
  {
   "cell_type": "markdown",
   "id": "2ee2e44d-06c9-4382-b5f6-b4b18b602c4f",
   "metadata": {},
   "source": [
    "### URL의 QnA 정보 수집"
   ]
  },
  {
   "cell_type": "code",
   "execution_count": 9,
   "id": "ef109946-a0c2-4740-9de7-42c3c97db1cd",
   "metadata": {
    "tags": []
   },
   "outputs": [],
   "source": [
    "# url_crawling 클래스 선언\n",
    "from crawling import qna_crawling"
   ]
  },
  {
   "cell_type": "code",
   "execution_count": 10,
   "id": "8fe99b17-0ae3-44af-bfc8-5b24a221368c",
   "metadata": {
    "tags": []
   },
   "outputs": [],
   "source": [
    "qna = qna_crawling()"
   ]
  },
  {
   "cell_type": "code",
   "execution_count": null,
   "id": "90f8175f-c669-4877-b459-a749c4deb4a2",
   "metadata": {
    "tags": []
   },
   "outputs": [
    {
     "name": "stderr",
     "output_type": "stream",
     "text": [
      " 15%|███████████▍                                                                 | 563/3802 [32:41<2:49:55,  3.15s/it]"
     ]
    },
    {
     "name": "stdout",
     "output_type": "stream",
     "text": [
      "index 562 : https://kin.naver.com/qna/detail.naver?d1id=7&dirId=71103&docId=451400441&qb=6rOg7ZiI7JWV&enc=utf8&section=kin&rank=255&search_sort=0&spq=0\n"
     ]
    },
    {
     "name": "stderr",
     "output_type": "stream",
     "text": [
      " 15%|███████████▍                                                                 | 566/3802 [32:49<2:15:59,  2.52s/it]"
     ]
    },
    {
     "name": "stdout",
     "output_type": "stream",
     "text": [
      "index 565 : https://kin.naver.com/qna/detail.naver?d1id=7&dirId=7010103&docId=452412323&qb=6rOg7ZiI7JWV&enc=utf8&section=kin&rank=267&search_sort=0&spq=0\n"
     ]
    },
    {
     "name": "stderr",
     "output_type": "stream",
     "text": [
      " 15%|███████████▉                                                                 | 588/3802 [34:02<2:07:14,  2.38s/it]"
     ]
    },
    {
     "name": "stdout",
     "output_type": "stream",
     "text": [
      "index 587 : https://kin.naver.com/qna/detail.naver?d1id=7&dirId=7010105&docId=450976455&qb=6rOg7ZiI7JWV&enc=utf8&section=kin&rank=503&search_sort=0&spq=0\n"
     ]
    },
    {
     "name": "stderr",
     "output_type": "stream",
     "text": [
      " 16%|████████████                                                                 | 593/3802 [34:19<2:34:32,  2.89s/it]"
     ]
    }
   ],
   "source": [
    "for i in tqdm(range(len(url_df))):\n",
    "    try:\n",
    "        qna.scraping(url_df.iloc[i]['href'])\n",
    "    except:\n",
    "        url_tmp = url_df['href'][i]\n",
    "        print(f'index {i} : {url_tmp}')\n",
    "    if (i+1)%100==0:\n",
    "        tmp = {\n",
    "            'URL' : url_df['href'][:i+1],\n",
    "            'Q_title' : qna.q_title,\n",
    "            'Q_question' : qna.q_content,\n",
    "            'Q_tag' : qna.q_tag,\n",
    "            'Q_date' : qna.q_date,\n",
    "\n",
    "            'A_username' : qna.a_name,\n",
    "            'A_user_category' : qna.a_cat,\n",
    "            'A_answer' : qna.a_content\n",
    "        }\n",
    "        pd.DataFrame(tmp).to_csv('C:/ENCLE_WCJUNG/02_mini_project_chatbot/qna_info_rev0.1_wcjung.csv', index=False, encoding=\"utf-8-sig\")"
   ]
  },
  {
   "cell_type": "code",
   "execution_count": null,
   "id": "5a8121f4-1222-4c4b-8d02-9b1559cf7eb1",
   "metadata": {
    "tags": []
   },
   "outputs": [],
   "source": [
    "tmp = {\n",
    "    'URL' : url_df['href'],\n",
    "    'Q_title' : qna.q_title,\n",
    "    'Q_question' : qna.q_content,\n",
    "    'Q_tag' : qna.q_tag,\n",
    "    'Q_date' : qna.q_date,\n",
    "\n",
    "    'A_username' : qna.a_name,\n",
    "    'A_user_category' : qna.a_cat,\n",
    "    'A_answer' : qna.a_content\n",
    "}\n",
    "pd.DataFrame(tmp)\n",
    "# pd.DataFrame(tmp).to_csv('C:/ENCLE_WCJUNG/02_mini_project_chatbot/qna_info_rev0.1_wcjung.csv', index=False, encoding=\"utf-8-sig\")"
   ]
  }
 ],
 "metadata": {
  "kernelspec": {
   "display_name": "Python 3 (ipykernel)",
   "language": "python",
   "name": "python3"
  },
  "language_info": {
   "codemirror_mode": {
    "name": "ipython",
    "version": 3
   },
   "file_extension": ".py",
   "mimetype": "text/x-python",
   "name": "python",
   "nbconvert_exporter": "python",
   "pygments_lexer": "ipython3",
   "version": "3.11.5"
  }
 },
 "nbformat": 4,
 "nbformat_minor": 5
}
