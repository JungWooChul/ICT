{
 "cells": [
  {
   "cell_type": "code",
   "execution_count": 5,
   "id": "6cb372f5-2e61-45e1-9dae-1dcc20cb3977",
   "metadata": {
    "tags": []
   },
   "outputs": [],
   "source": [
    "# pip install numpy\n",
    "# pip install pandas\n",
    "# pip install tqdm\n",
    "# pip install selenium"
   ]
  },
  {
   "cell_type": "code",
   "execution_count": 1,
   "id": "bc359274-c985-4e7a-923b-52f23fe0560c",
   "metadata": {
    "tags": []
   },
   "outputs": [],
   "source": [
    "import time\n",
    "import numpy as np\n",
    "import pandas as pd\n",
    "import warnings; warnings.filterwarnings(action='ignore')\n",
    "\n",
    "from tqdm import tqdm\n",
    "from typing import Final\n",
    "from bs4 import BeautifulSoup as bs\n",
    "from selenium import webdriver as wd\n",
    "from selenium.common.exceptions import NoSuchElementException\n",
    "from selenium.webdriver.common.by import By\n",
    "from selenium.webdriver.common.keys import Keys\n",
    "from selenium.webdriver.support.ui import WebDriverWait\n",
    "from selenium.webdriver.support import expected_conditions as EC  \n",
    "\n",
    "options = wd.ChromeOptions()\n",
    "# options.add_argument(\"headless\")\n",
    "options.add_argument('window-size=1920x1080')\n",
    "options.add_argument('disable-gup')\n",
    "options.add_argument('user-agent=Mozilla/5.0 (Windows NT 10.0; Win64; x64) AppleWebKit/537.36 (KHTML, like Gecko) Chrome/100.0.4896.75 Safari/537.36')\n",
    "options.add_argument('lang=ko_KR')"
   ]
  },
  {
   "cell_type": "markdown",
   "id": "561c1ab6-d6dc-4720-8781-9d9ef4e9f1ff",
   "metadata": {
    "tags": []
   },
   "source": [
    "### 상수 선언"
   ]
  },
  {
   "cell_type": "code",
   "execution_count": 9,
   "id": "04d401d0-a40c-4f91-9e6c-6ccf108913de",
   "metadata": {
    "tags": []
   },
   "outputs": [],
   "source": [
    "WAIT: Final[float] = 3.0"
   ]
  },
  {
   "cell_type": "markdown",
   "id": "4faa4d61-3002-4efb-9c57-9c21520db328",
   "metadata": {
    "tags": []
   },
   "source": [
    "### 크롬 드라이버 실행"
   ]
  },
  {
   "cell_type": "code",
   "execution_count": 17,
   "id": "1b1498ce-0421-4726-93f1-31739422a1f3",
   "metadata": {
    "tags": []
   },
   "outputs": [],
   "source": [
    "driver = wd.Chrome()"
   ]
  },
  {
   "cell_type": "markdown",
   "id": "e28304ff-4614-4721-827a-11d733aadb22",
   "metadata": {},
   "source": [
    "### Crawling 클래스 생성"
   ]
  },
  {
   "cell_type": "code",
   "execution_count": 2,
   "id": "14cff424-5b84-4ca2-8fea-8f52bef041a8",
   "metadata": {},
   "outputs": [],
   "source": [
    "from crawling import url_crawling"
   ]
  },
  {
   "cell_type": "code",
   "execution_count": 3,
   "id": "b0e8f6a9-93a6-44f3-8c28-81e17d3e7395",
   "metadata": {
    "tags": []
   },
   "outputs": [],
   "source": [
    "test = url_crawling()"
   ]
  },
  {
   "cell_type": "code",
   "execution_count": 4,
   "id": "bdc386b3-cab4-482a-8680-f6d7d702dda2",
   "metadata": {},
   "outputs": [
    {
     "data": {
      "text/plain": [
       "datetime.datetime(2023, 9, 17, 0, 0)"
      ]
     },
     "execution_count": 4,
     "metadata": {},
     "output_type": "execute_result"
    }
   ],
   "source": [
    "from datetime import datetime, timedelta\n",
    "\n",
    "pre=datetime(2023,10,17)\n",
    "pre - timedelta(days=30)"
   ]
  },
  {
   "cell_type": "code",
   "execution_count": null,
   "id": "2535853b-745b-4ee3-bdad-483304efcfb3",
   "metadata": {
    "tags": []
   },
   "outputs": [
    {
     "name": "stderr",
     "output_type": "stream",
     "text": [
      "  0%|                                                                                           | 0/24 [00:00<?, ?it/s]"
     ]
    },
    {
     "name": "stdout",
     "output_type": "stream",
     "text": [
      "https://kin.naver.com/search/list.nhn?sort=none&query=고혈압&period=2023.09.17.%7C2023.10.17.&section=kin&page=1\n"
     ]
    }
   ],
   "source": [
    "for _ in tqdm(range(24)):\n",
    "    test.scraping(pre)\n",
    "    pre = pre - timedelta(days=31)\n",
    "    \n",
    "    # 한 달 동안의 url 저장\n",
    "    meta_tmp = {\n",
    "    'href' : test.href,\n",
    "    'expert' : test.check_expert\n",
    "    }\n",
    "    pd.DataFrame(meta_tmp).to_csv('C:/ENCLE_WCJUNG/02_mini_project_chatbot/url_info_rev0.1_wcjung.csv', index=False, encoding=\"utf-8-sig\")"
   ]
  },
  {
   "cell_type": "code",
   "execution_count": null,
   "id": "b24767fd-0c6e-4d5d-8737-dc1c5f3302aa",
   "metadata": {},
   "outputs": [],
   "source": []
  }
 ],
 "metadata": {
  "kernelspec": {
   "display_name": "Python 3 (ipykernel)",
   "language": "python",
   "name": "python3"
  },
  "language_info": {
   "codemirror_mode": {
    "name": "ipython",
    "version": 3
   },
   "file_extension": ".py",
   "mimetype": "text/x-python",
   "name": "python",
   "nbconvert_exporter": "python",
   "pygments_lexer": "ipython3",
   "version": "3.10.13"
  }
 },
 "nbformat": 4,
 "nbformat_minor": 5
}
