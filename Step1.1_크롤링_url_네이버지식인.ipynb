{
 "cells": [
  {
   "cell_type": "code",
   "execution_count": 4,
   "id": "6cb372f5-2e61-45e1-9dae-1dcc20cb3977",
   "metadata": {
    "tags": []
   },
   "outputs": [],
   "source": [
    "# !pip install numpy\n",
    "# !pip install pandas\n",
    "# !pip install tqdm\n",
    "# !pip install selenium"
   ]
  },
  {
   "cell_type": "code",
   "execution_count": 1,
   "id": "bc359274-c985-4e7a-923b-52f23fe0560c",
   "metadata": {
    "tags": []
   },
   "outputs": [],
   "source": [
    "import time\n",
    "import numpy as np\n",
    "import pandas as pd\n",
    "import warnings; warnings.filterwarnings(action='ignore')\n",
    "\n",
    "from tqdm import tqdm\n",
    "from typing import Final\n",
    "from bs4 import BeautifulSoup as bs\n",
    "from selenium import webdriver as wd\n",
    "from selenium.common.exceptions import NoSuchElementException\n",
    "from selenium.webdriver.common.by import By\n",
    "from selenium.webdriver.common.keys import Keys\n",
    "from selenium.webdriver.support.ui import WebDriverWait\n",
    "from selenium.webdriver.support import expected_conditions as EC  \n",
    "\n",
    "options = wd.ChromeOptions()\n",
    "# options.add_argument(\"headless\")\n",
    "options.add_argument('window-size=1920x1080')\n",
    "options.add_argument('disable-gup')\n",
    "options.add_argument('user-agent=Mozilla/5.0 (Windows NT 10.0; Win64; x64) AppleWebKit/537.36 (KHTML, like Gecko) Chrome/100.0.4896.75 Safari/537.36')\n",
    "options.add_argument('lang=ko_KR')"
   ]
  },
  {
   "cell_type": "markdown",
   "id": "561c1ab6-d6dc-4720-8781-9d9ef4e9f1ff",
   "metadata": {
    "tags": []
   },
   "source": [
    "### 상수 선언"
   ]
  },
  {
   "cell_type": "code",
   "execution_count": 2,
   "id": "04d401d0-a40c-4f91-9e6c-6ccf108913de",
   "metadata": {
    "tags": []
   },
   "outputs": [],
   "source": [
    "WAIT: Final[float] = 3.0"
   ]
  },
  {
   "cell_type": "markdown",
   "id": "4faa4d61-3002-4efb-9c57-9c21520db328",
   "metadata": {
    "tags": []
   },
   "source": [
    "### 크롬 드라이버 실행"
   ]
  },
  {
   "cell_type": "code",
   "execution_count": 3,
   "id": "1b1498ce-0421-4726-93f1-31739422a1f3",
   "metadata": {
    "tags": []
   },
   "outputs": [],
   "source": [
    "driver = wd.Chrome()"
   ]
  },
  {
   "cell_type": "markdown",
   "id": "e28304ff-4614-4721-827a-11d733aadb22",
   "metadata": {},
   "source": [
    "### 페이지 url 수집"
   ]
  },
  {
   "cell_type": "code",
   "execution_count": 3,
   "id": "14cff424-5b84-4ca2-8fea-8f52bef041a8",
   "metadata": {
    "tags": []
   },
   "outputs": [],
   "source": [
    "# url_crawling 클래스 선언\n",
    "from crawling import url_crawling"
   ]
  },
  {
   "cell_type": "code",
   "execution_count": 4,
   "id": "b0e8f6a9-93a6-44f3-8c28-81e17d3e7395",
   "metadata": {
    "tags": []
   },
   "outputs": [],
   "source": [
    "# 객체 생성\n",
    "test = url_crawling()"
   ]
  },
  {
   "cell_type": "code",
   "execution_count": 5,
   "id": "bdc386b3-cab4-482a-8680-f6d7d702dda2",
   "metadata": {
    "tags": []
   },
   "outputs": [
    {
     "data": {
      "text/plain": [
       "datetime.datetime(2023, 9, 17, 0, 0)"
      ]
     },
     "execution_count": 5,
     "metadata": {},
     "output_type": "execute_result"
    }
   ],
   "source": [
    "from datetime import datetime, timedelta\n",
    "\n",
    "# 기간 입력값 확인\n",
    "pre=datetime(2023,10,17)\n",
    "pre - timedelta(days=30)"
   ]
  },
  {
   "cell_type": "code",
   "execution_count": 6,
   "id": "2535853b-745b-4ee3-bdad-483304efcfb3",
   "metadata": {
    "tags": []
   },
   "outputs": [
    {
     "name": "stderr",
     "output_type": "stream",
     "text": [
      "  0%|                                                                                           | 0/24 [00:00<?, ?it/s]"
     ]
    },
    {
     "name": "stdout",
     "output_type": "stream",
     "text": [
      "https://kin.naver.com/search/list.nhn?sort=none&query=고혈압&period=2023.09.17.%7C2023.10.17.&section=kin&page=1\n"
     ]
    },
    {
     "name": "stderr",
     "output_type": "stream",
     "text": [
      "  4%|███▎                                                                            | 1/24 [08:14<3:09:34, 494.53s/it]"
     ]
    },
    {
     "name": "stdout",
     "output_type": "stream",
     "text": [
      "https://kin.naver.com/search/list.nhn?sort=none&query=고혈압&period=2023.08.17.%7C2023.09.16.&section=kin&page=1\n"
     ]
    },
    {
     "name": "stderr",
     "output_type": "stream",
     "text": [
      "  8%|██████▋                                                                         | 2/24 [16:25<3:00:30, 492.31s/it]"
     ]
    },
    {
     "name": "stdout",
     "output_type": "stream",
     "text": [
      "https://kin.naver.com/search/list.nhn?sort=none&query=고혈압&period=2023.07.17.%7C2023.08.16.&section=kin&page=1\n"
     ]
    },
    {
     "name": "stderr",
     "output_type": "stream",
     "text": [
      " 12%|██████████                                                                      | 3/24 [24:36<2:52:08, 491.84s/it]"
     ]
    },
    {
     "name": "stdout",
     "output_type": "stream",
     "text": [
      "https://kin.naver.com/search/list.nhn?sort=none&query=고혈압&period=2023.06.16.%7C2023.07.16.&section=kin&page=1\n"
     ]
    },
    {
     "name": "stderr",
     "output_type": "stream",
     "text": [
      " 17%|█████████████▎                                                                  | 4/24 [32:48<2:43:55, 491.76s/it]"
     ]
    },
    {
     "name": "stdout",
     "output_type": "stream",
     "text": [
      "https://kin.naver.com/search/list.nhn?sort=none&query=고혈압&period=2023.05.16.%7C2023.06.15.&section=kin&page=1\n"
     ]
    },
    {
     "name": "stderr",
     "output_type": "stream",
     "text": [
      " 21%|████████████████▋                                                               | 5/24 [41:11<2:37:03, 496.00s/it]"
     ]
    },
    {
     "name": "stdout",
     "output_type": "stream",
     "text": [
      "https://kin.naver.com/search/list.nhn?sort=none&query=고혈압&period=2023.04.15.%7C2023.05.15.&section=kin&page=1\n"
     ]
    },
    {
     "name": "stderr",
     "output_type": "stream",
     "text": [
      " 25%|████████████████████                                                            | 6/24 [49:28<2:28:54, 496.37s/it]"
     ]
    },
    {
     "name": "stdout",
     "output_type": "stream",
     "text": [
      "https://kin.naver.com/search/list.nhn?sort=none&query=고혈압&period=2023.03.15.%7C2023.04.14.&section=kin&page=1\n"
     ]
    },
    {
     "name": "stderr",
     "output_type": "stream",
     "text": [
      " 29%|███████████████████████▎                                                        | 7/24 [57:46<2:20:48, 496.94s/it]"
     ]
    },
    {
     "name": "stdout",
     "output_type": "stream",
     "text": [
      "https://kin.naver.com/search/list.nhn?sort=none&query=고혈압&period=2023.02.12.%7C2023.03.14.&section=kin&page=1\n"
     ]
    },
    {
     "name": "stderr",
     "output_type": "stream",
     "text": [
      " 33%|██████████████████████████                                                    | 8/24 [1:05:59<2:12:08, 495.55s/it]"
     ]
    },
    {
     "name": "stdout",
     "output_type": "stream",
     "text": [
      "https://kin.naver.com/search/list.nhn?sort=none&query=고혈압&period=2023.01.12.%7C2023.02.11.&section=kin&page=1\n"
     ]
    },
    {
     "name": "stderr",
     "output_type": "stream",
     "text": [
      " 38%|█████████████████████████████▎                                                | 9/24 [1:14:20<2:04:19, 497.28s/it]"
     ]
    },
    {
     "name": "stdout",
     "output_type": "stream",
     "text": [
      "https://kin.naver.com/search/list.nhn?sort=none&query=고혈압&period=2022.12.12.%7C2023.01.11.&section=kin&page=1\n"
     ]
    },
    {
     "name": "stderr",
     "output_type": "stream",
     "text": [
      " 42%|████████████████████████████████                                             | 10/24 [1:22:47<1:56:42, 500.20s/it]"
     ]
    },
    {
     "name": "stdout",
     "output_type": "stream",
     "text": [
      "https://kin.naver.com/search/list.nhn?sort=none&query=고혈압&period=2022.11.11.%7C2022.12.11.&section=kin&page=1\n"
     ]
    },
    {
     "name": "stderr",
     "output_type": "stream",
     "text": [
      " 46%|███████████████████████████████████▎                                         | 11/24 [1:31:09<1:48:29, 500.76s/it]"
     ]
    },
    {
     "name": "stdout",
     "output_type": "stream",
     "text": [
      "https://kin.naver.com/search/list.nhn?sort=none&query=고혈압&period=2022.10.11.%7C2022.11.10.&section=kin&page=1\n"
     ]
    },
    {
     "name": "stderr",
     "output_type": "stream",
     "text": [
      " 50%|██████████████████████████████████████▌                                      | 12/24 [1:39:35<1:40:28, 502.41s/it]"
     ]
    },
    {
     "name": "stdout",
     "output_type": "stream",
     "text": [
      "https://kin.naver.com/search/list.nhn?sort=none&query=고혈압&period=2022.09.10.%7C2022.10.10.&section=kin&page=1\n"
     ]
    },
    {
     "name": "stderr",
     "output_type": "stream",
     "text": [
      " 54%|█████████████████████████████████████████▋                                   | 13/24 [1:47:55<1:31:56, 501.51s/it]"
     ]
    },
    {
     "name": "stdout",
     "output_type": "stream",
     "text": [
      "https://kin.naver.com/search/list.nhn?sort=none&query=고혈압&period=2022.08.10.%7C2022.09.09.&section=kin&page=1\n"
     ]
    },
    {
     "name": "stderr",
     "output_type": "stream",
     "text": [
      " 58%|████████████████████████████████████████████▉                                | 14/24 [1:56:10<1:23:17, 499.75s/it]"
     ]
    },
    {
     "name": "stdout",
     "output_type": "stream",
     "text": [
      "https://kin.naver.com/search/list.nhn?sort=none&query=고혈압&period=2022.07.10.%7C2022.08.09.&section=kin&page=1\n"
     ]
    },
    {
     "name": "stderr",
     "output_type": "stream",
     "text": [
      " 62%|████████████████████████████████████████████████▏                            | 15/24 [2:04:23<1:14:38, 497.60s/it]"
     ]
    },
    {
     "name": "stdout",
     "output_type": "stream",
     "text": [
      "https://kin.naver.com/search/list.nhn?sort=none&query=고혈압&period=2022.06.09.%7C2022.07.09.&section=kin&page=1\n"
     ]
    },
    {
     "name": "stderr",
     "output_type": "stream",
     "text": [
      " 67%|███████████████████████████████████████████████████▎                         | 16/24 [2:12:27<1:05:47, 493.49s/it]"
     ]
    },
    {
     "name": "stdout",
     "output_type": "stream",
     "text": [
      "https://kin.naver.com/search/list.nhn?sort=none&query=고혈압&period=2022.05.09.%7C2022.06.08.&section=kin&page=1\n"
     ]
    },
    {
     "name": "stderr",
     "output_type": "stream",
     "text": [
      " 71%|███████████████████████████████████████████████████████▉                       | 17/24 [2:20:47<57:49, 495.61s/it]"
     ]
    },
    {
     "name": "stdout",
     "output_type": "stream",
     "text": [
      "https://kin.naver.com/search/list.nhn?sort=none&query=고혈압&period=2022.04.08.%7C2022.05.08.&section=kin&page=1\n"
     ]
    },
    {
     "name": "stderr",
     "output_type": "stream",
     "text": [
      " 75%|███████████████████████████████████████████████████████████▎                   | 18/24 [2:29:12<49:50, 498.36s/it]"
     ]
    },
    {
     "name": "stdout",
     "output_type": "stream",
     "text": [
      "https://kin.naver.com/search/list.nhn?sort=none&query=고혈압&period=2022.03.08.%7C2022.04.07.&section=kin&page=1\n"
     ]
    },
    {
     "name": "stderr",
     "output_type": "stream",
     "text": [
      " 79%|██████████████████████████████████████████████████████████████▌                | 19/24 [2:37:42<41:49, 501.87s/it]"
     ]
    },
    {
     "name": "stdout",
     "output_type": "stream",
     "text": [
      "https://kin.naver.com/search/list.nhn?sort=none&query=고혈압&period=2022.02.05.%7C2022.03.07.&section=kin&page=1\n"
     ]
    },
    {
     "name": "stderr",
     "output_type": "stream",
     "text": [
      " 83%|█████████████████████████████████████████████████████████████████▊             | 20/24 [2:46:02<33:24, 501.23s/it]"
     ]
    },
    {
     "name": "stdout",
     "output_type": "stream",
     "text": [
      "https://kin.naver.com/search/list.nhn?sort=none&query=고혈압&period=2022.01.05.%7C2022.02.04.&section=kin&page=1\n"
     ]
    },
    {
     "name": "stderr",
     "output_type": "stream",
     "text": [
      " 88%|█████████████████████████████████████████████████████████████████████▏         | 21/24 [2:53:59<24:41, 493.90s/it]"
     ]
    },
    {
     "name": "stdout",
     "output_type": "stream",
     "text": [
      "https://kin.naver.com/search/list.nhn?sort=none&query=고혈압&period=2021.12.05.%7C2022.01.04.&section=kin&page=1\n"
     ]
    },
    {
     "name": "stderr",
     "output_type": "stream",
     "text": [
      " 92%|████████████████████████████████████████████████████████████████████████▍      | 22/24 [3:02:06<16:24, 492.01s/it]"
     ]
    },
    {
     "name": "stdout",
     "output_type": "stream",
     "text": [
      "https://kin.naver.com/search/list.nhn?sort=none&query=고혈압&period=2021.11.04.%7C2021.12.04.&section=kin&page=1\n"
     ]
    },
    {
     "name": "stderr",
     "output_type": "stream",
     "text": [
      " 96%|███████████████████████████████████████████████████████████████████████████▋   | 23/24 [3:10:21<08:12, 492.74s/it]"
     ]
    },
    {
     "name": "stdout",
     "output_type": "stream",
     "text": [
      "https://kin.naver.com/search/list.nhn?sort=none&query=고혈압&period=2021.10.04.%7C2021.11.03.&section=kin&page=1\n"
     ]
    },
    {
     "name": "stderr",
     "output_type": "stream",
     "text": [
      " 96%|███████████████████████████████████████████████████████████████████████████▋   | 23/24 [3:16:52<08:33, 513.59s/it]\n"
     ]
    },
    {
     "ename": "KeyboardInterrupt",
     "evalue": "",
     "output_type": "error",
     "traceback": [
      "\u001b[1;31m---------------------------------------------------------------------------\u001b[0m",
      "\u001b[1;31mKeyboardInterrupt\u001b[0m                         Traceback (most recent call last)",
      "Cell \u001b[1;32mIn[6], line 2\u001b[0m\n\u001b[0;32m      1\u001b[0m \u001b[38;5;28;01mfor\u001b[39;00m _ \u001b[38;5;129;01min\u001b[39;00m tqdm(\u001b[38;5;28mrange\u001b[39m(\u001b[38;5;241m24\u001b[39m)):\n\u001b[1;32m----> 2\u001b[0m     test\u001b[38;5;241m.\u001b[39mscraping(pre)\n\u001b[0;32m      3\u001b[0m     pre \u001b[38;5;241m=\u001b[39m pre \u001b[38;5;241m-\u001b[39m timedelta(days\u001b[38;5;241m=\u001b[39m\u001b[38;5;241m31\u001b[39m)\n\u001b[0;32m      5\u001b[0m     \u001b[38;5;66;03m# 한 달 동안의 url 저장\u001b[39;00m\n",
      "File \u001b[1;32mC:\\ENCLE_WCJUNG\\02_mini_project_chatbot\\crawling.py:54\u001b[0m, in \u001b[0;36murl_crawling.scraping\u001b[1;34m(self, period_start)\u001b[0m\n\u001b[0;32m     51\u001b[0m \u001b[38;5;28mself\u001b[39m\u001b[38;5;241m.\u001b[39murl \u001b[38;5;241m=\u001b[39m \u001b[38;5;28mself\u001b[39m\u001b[38;5;241m.\u001b[39m\u001b[38;5;21m__str__\u001b[39m(page_idx)\n\u001b[0;32m     53\u001b[0m \u001b[38;5;28mself\u001b[39m\u001b[38;5;241m.\u001b[39mdriver\u001b[38;5;241m.\u001b[39mget(\u001b[38;5;28mself\u001b[39m\u001b[38;5;241m.\u001b[39murl)\n\u001b[1;32m---> 54\u001b[0m time\u001b[38;5;241m.\u001b[39msleep(random\u001b[38;5;241m.\u001b[39muniform(\u001b[38;5;241m2\u001b[39m,\u001b[38;5;241m4\u001b[39m))\n\u001b[0;32m     56\u001b[0m html \u001b[38;5;241m=\u001b[39m \u001b[38;5;28mself\u001b[39m\u001b[38;5;241m.\u001b[39mdriver\u001b[38;5;241m.\u001b[39mpage_source\n\u001b[0;32m     57\u001b[0m soup \u001b[38;5;241m=\u001b[39m bs(html, \u001b[38;5;124m'\u001b[39m\u001b[38;5;124mhtml.parser\u001b[39m\u001b[38;5;124m'\u001b[39m)\n",
      "\u001b[1;31mKeyboardInterrupt\u001b[0m: "
     ]
    }
   ],
   "source": [
    "# 30일 단위로 정보 수집\n",
    "# 2년간의 데이터 수집\n",
    "for _ in tqdm(range(24)):\n",
    "    test.scraping(pre)\n",
    "    pre = pre - timedelta(days=31)\n",
    "    \n",
    "    # 한 달 동안의 url 저장\n",
    "    meta_tmp = {\n",
    "    'href' : test.href,\n",
    "    'expert' : test.check_expert\n",
    "    }\n",
    "    pd.DataFrame(meta_tmp).to_csv('C:/ENCLE_WCJUNG/02_mini_project_chatbot/url_info_rev0.1_wcjung.csv', index=False, encoding=\"utf-8-sig\")"
   ]
  },
  {
   "cell_type": "code",
   "execution_count": 7,
   "id": "b24767fd-0c6e-4d5d-8737-dc1c5f3302aa",
   "metadata": {
    "tags": []
   },
   "outputs": [],
   "source": [
    "meta_tmp = {\n",
    "    'href' : test.href,\n",
    "    'expert' : test.check_expert\n",
    "    }\n",
    "pd.DataFrame(meta_tmp).to_csv('C:/ENCLE_WCJUNG/02_mini_project_chatbot/url_info_rev0.1_wcjung.csv', index=False, encoding=\"utf-8-sig\")"
   ]
  },
  {
   "cell_type": "code",
   "execution_count": 9,
   "id": "0d753059-b74d-4e12-83ba-cbcd085c6b37",
   "metadata": {
    "tags": []
   },
   "outputs": [],
   "source": [
    "meta_df = pd.DataFrame(meta_tmp)"
   ]
  },
  {
   "cell_type": "code",
   "execution_count": 14,
   "id": "d2b649f4-3e77-476c-804f-058afbf4cf24",
   "metadata": {
    "tags": []
   },
   "outputs": [
    {
     "data": {
      "text/plain": [
       "3802"
      ]
     },
     "execution_count": 14,
     "metadata": {},
     "output_type": "execute_result"
    }
   ],
   "source": [
    "len(meta_df)"
   ]
  },
  {
   "cell_type": "code",
   "execution_count": 11,
   "id": "72c9014c-50f2-41f7-8586-e358d0df58f3",
   "metadata": {
    "tags": []
   },
   "outputs": [
    {
     "data": {
      "text/plain": [
       "3802"
      ]
     },
     "execution_count": 11,
     "metadata": {},
     "output_type": "execute_result"
    }
   ],
   "source": [
    "meta_df['href'].nunique()"
   ]
  },
  {
   "cell_type": "code",
   "execution_count": 13,
   "id": "3154a079-e1b4-44f1-925c-91012d633c52",
   "metadata": {
    "tags": []
   },
   "outputs": [],
   "source": [
    "meta_df.drop_duplicates(inplace=True)"
   ]
  },
  {
   "cell_type": "code",
   "execution_count": 15,
   "id": "be1d49a5-464f-4d91-9587-3a01b829d761",
   "metadata": {
    "tags": []
   },
   "outputs": [],
   "source": [
    "meta_df.to_csv('C:/ENCLE_WCJUNG/02_mini_project_chatbot/url_info_rev0.1_wcjung.csv', index=False, encoding=\"utf-8-sig\")"
   ]
  },
  {
   "cell_type": "code",
   "execution_count": 16,
   "id": "d2bf3007-b549-47fb-89fa-737979ebaa66",
   "metadata": {
    "tags": []
   },
   "outputs": [
    {
     "data": {
      "text/plain": [
       "array(['영양사답변', '한의사답변', '의사답변', '약사답변', '지식파트너 답변', '변호사답변', '노무사답변'],\n",
       "      dtype=object)"
      ]
     },
     "execution_count": 16,
     "metadata": {},
     "output_type": "execute_result"
    }
   ],
   "source": [
    "meta_df['expert'].unique()"
   ]
  },
  {
   "cell_type": "code",
   "execution_count": null,
   "id": "9ab68bea-2e70-4230-ac07-2357413c2715",
   "metadata": {},
   "outputs": [],
   "source": []
  }
 ],
 "metadata": {
  "kernelspec": {
   "display_name": "Python 3 (ipykernel)",
   "language": "python",
   "name": "python3"
  },
  "language_info": {
   "codemirror_mode": {
    "name": "ipython",
    "version": 3
   },
   "file_extension": ".py",
   "mimetype": "text/x-python",
   "name": "python",
   "nbconvert_exporter": "python",
   "pygments_lexer": "ipython3",
   "version": "3.11.5"
  }
 },
 "nbformat": 4,
 "nbformat_minor": 5
}
