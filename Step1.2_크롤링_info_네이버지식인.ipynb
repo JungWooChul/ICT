{
 "cells": [
  {
   "cell_type": "code",
   "execution_count": 1,
   "id": "6c451bc2-2068-4c21-998b-4ffa78dffd5d",
   "metadata": {
    "tags": []
   },
   "outputs": [],
   "source": [
    "import time\n",
    "import numpy as np\n",
    "import pandas as pd\n",
    "import warnings; warnings.filterwarnings(action='ignore')\n",
    "\n",
    "from tqdm import tqdm\n",
    "from typing import Final\n",
    "from bs4 import BeautifulSoup as bs\n",
    "from selenium import webdriver as wd\n",
    "from selenium.common.exceptions import NoSuchElementException\n",
    "from selenium.webdriver.common.by import By\n",
    "from selenium.webdriver.common.keys import Keys\n",
    "from selenium.webdriver.support.ui import WebDriverWait\n",
    "from selenium.webdriver.support import expected_conditions as EC  \n",
    "\n",
    "options = wd.ChromeOptions()\n",
    "# options.add_argument(\"headless\")\n",
    "options.add_argument('window-size=1920x1080')\n",
    "options.add_argument('disable-gup')\n",
    "options.add_argument('user-agent=Mozilla/5.0 (Windows NT 10.0; Win64; x64) AppleWebKit/537.36 (KHTML, like Gecko) Chrome/100.0.4896.75 Safari/537.36')\n",
    "options.add_argument('lang=ko_KR')"
   ]
  },
  {
   "cell_type": "markdown",
   "id": "52f0242d-18ec-47ae-81ba-3526e2c396cc",
   "metadata": {},
   "source": [
    "### url 정보 호출"
   ]
  },
  {
   "cell_type": "code",
   "execution_count": 2,
   "id": "3916950e-f671-411c-8d08-02547870a93a",
   "metadata": {
    "tags": []
   },
   "outputs": [
    {
     "data": {
      "text/html": [
       "<div>\n",
       "<style scoped>\n",
       "    .dataframe tbody tr th:only-of-type {\n",
       "        vertical-align: middle;\n",
       "    }\n",
       "\n",
       "    .dataframe tbody tr th {\n",
       "        vertical-align: top;\n",
       "    }\n",
       "\n",
       "    .dataframe thead th {\n",
       "        text-align: right;\n",
       "    }\n",
       "</style>\n",
       "<table border=\"1\" class=\"dataframe\">\n",
       "  <thead>\n",
       "    <tr style=\"text-align: right;\">\n",
       "      <th></th>\n",
       "      <th>href</th>\n",
       "      <th>expert</th>\n",
       "    </tr>\n",
       "  </thead>\n",
       "  <tbody>\n",
       "    <tr>\n",
       "      <th>0</th>\n",
       "      <td>https://kin.naver.com/qna/detail.naver?d1id=7&amp;...</td>\n",
       "      <td>영양사답변</td>\n",
       "    </tr>\n",
       "    <tr>\n",
       "      <th>1</th>\n",
       "      <td>https://kin.naver.com/qna/detail.naver?d1id=7&amp;...</td>\n",
       "      <td>한의사답변</td>\n",
       "    </tr>\n",
       "    <tr>\n",
       "      <th>2</th>\n",
       "      <td>https://kin.naver.com/qna/detail.naver?d1id=7&amp;...</td>\n",
       "      <td>영양사답변</td>\n",
       "    </tr>\n",
       "    <tr>\n",
       "      <th>3</th>\n",
       "      <td>https://kin.naver.com/qna/detail.naver?d1id=7&amp;...</td>\n",
       "      <td>의사답변</td>\n",
       "    </tr>\n",
       "    <tr>\n",
       "      <th>4</th>\n",
       "      <td>https://kin.naver.com/qna/detail.naver?d1id=7&amp;...</td>\n",
       "      <td>의사답변</td>\n",
       "    </tr>\n",
       "  </tbody>\n",
       "</table>\n",
       "</div>"
      ],
      "text/plain": [
       "                                                href expert\n",
       "0  https://kin.naver.com/qna/detail.naver?d1id=7&...  영양사답변\n",
       "1  https://kin.naver.com/qna/detail.naver?d1id=7&...  한의사답변\n",
       "2  https://kin.naver.com/qna/detail.naver?d1id=7&...  영양사답변\n",
       "3  https://kin.naver.com/qna/detail.naver?d1id=7&...   의사답변\n",
       "4  https://kin.naver.com/qna/detail.naver?d1id=7&...   의사답변"
      ]
     },
     "execution_count": 2,
     "metadata": {},
     "output_type": "execute_result"
    }
   ],
   "source": [
    "url_df = pd.read_csv('C:/ENCLE_WCJUNG/02_mini_project_chatbot/url_info_rev0.1_wcjung.csv')\n",
    "url_df.head()"
   ]
  },
  {
   "cell_type": "markdown",
   "id": "2ee2e44d-06c9-4382-b5f6-b4b18b602c4f",
   "metadata": {},
   "source": [
    "### URL의 QnA 정보 수집"
   ]
  },
  {
   "cell_type": "code",
   "execution_count": 3,
   "id": "ef109946-a0c2-4740-9de7-42c3c97db1cd",
   "metadata": {
    "tags": []
   },
   "outputs": [],
   "source": [
    "# url_crawling 클래스 선언\n",
    "from crawling import qna_crawling"
   ]
  },
  {
   "cell_type": "code",
   "execution_count": 4,
   "id": "8fe99b17-0ae3-44af-bfc8-5b24a221368c",
   "metadata": {
    "tags": []
   },
   "outputs": [],
   "source": [
    "qna = qna_crawling()"
   ]
  },
  {
   "cell_type": "code",
   "execution_count": 5,
   "id": "90f8175f-c669-4877-b459-a749c4deb4a2",
   "metadata": {
    "tags": []
   },
   "outputs": [
    {
     "name": "stderr",
     "output_type": "stream",
     "text": [
      "100%|████████████████████████████████████████████████████████████████████████████████| 100/100 [00:51<00:00,  1.96it/s]\n"
     ]
    }
   ],
   "source": [
    "for i in tqdm(range(100)):\n",
    "    qna.scraping(url_df.iloc[i]['href'])"
   ]
  },
  {
   "cell_type": "code",
   "execution_count": 6,
   "id": "c93ddf05-ee83-4947-9dcd-ab6649cf4e4d",
   "metadata": {
    "tags": []
   },
   "outputs": [],
   "source": [
    "tmp = {\n",
    "    'title' : qna.q_title,\n",
    "    'question' : qna.q_content,\n",
    "    'tag' : qna.q_tag,\n",
    "    'date' : qna.q_date\n",
    "}\n",
    "tmp_df = pd.DataFrame(tmp)"
   ]
  },
  {
   "cell_type": "code",
   "execution_count": 7,
   "id": "5a8121f4-1222-4c4b-8d02-9b1559cf7eb1",
   "metadata": {
    "tags": []
   },
   "outputs": [
    {
     "data": {
      "text/html": [
       "<div>\n",
       "<style scoped>\n",
       "    .dataframe tbody tr th:only-of-type {\n",
       "        vertical-align: middle;\n",
       "    }\n",
       "\n",
       "    .dataframe tbody tr th {\n",
       "        vertical-align: top;\n",
       "    }\n",
       "\n",
       "    .dataframe thead th {\n",
       "        text-align: right;\n",
       "    }\n",
       "</style>\n",
       "<table border=\"1\" class=\"dataframe\">\n",
       "  <thead>\n",
       "    <tr style=\"text-align: right;\">\n",
       "      <th></th>\n",
       "      <th>title</th>\n",
       "      <th>content</th>\n",
       "      <th>tag</th>\n",
       "      <th>date</th>\n",
       "    </tr>\n",
       "  </thead>\n",
       "  <tbody>\n",
       "    <tr>\n",
       "      <th>0</th>\n",
       "      <td>고혈압 낮추는 방법 중에 효과 제일 좋은 게 어떤건가요?  (안산시 60대초반/여 ...</td>\n",
       "      <td>혈압 142/93으로1단계 고혈압인데요고혈압 낮추는 방법 중에효과 제일 좋은 게 어...</td>\n",
       "      <td>질환영양</td>\n",
       "      <td>2023.10.06</td>\n",
       "    </tr>\n",
       "    <tr>\n",
       "      <th>1</th>\n",
       "      <td>고혈압도 있고 당뇨도 있는 60대인데 발기부전이 있습니다. 치료 방법 있을까요?</td>\n",
       "      <td>고혈압약과 당뇨약을 꽤 오랜기간 복용하고 있는 60대입니다.발기가 온전치가 않아서 ...</td>\n",
       "      <td>한방내과</td>\n",
       "      <td>2023.10.06</td>\n",
       "    </tr>\n",
       "    <tr>\n",
       "      <th>2</th>\n",
       "      <td>고혈압 수치 가까울 때 먹는 영양제 어떻게 골라야하나요? (구로구 30대중반/남 고혈압)</td>\n",
       "      <td>혈압 체크했는데 131/86으로고혈압 수치에 가까운데 먹는 영양제 어떻게 골라야하나...</td>\n",
       "      <td>질환영양</td>\n",
       "      <td>2023.10.10</td>\n",
       "    </tr>\n",
       "    <tr>\n",
       "      <th>3</th>\n",
       "      <td>고혈압 처방</td>\n",
       "      <td>고혈압을 진단받고 약을 처방 받는데 그러면 그 약을 다 먹고 나서도 다시 병원가서 ...</td>\n",
       "      <td>순환기내과\\n#고혈압약\\n#고혈압</td>\n",
       "      <td>2023.10.09</td>\n",
       "    </tr>\n",
       "    <tr>\n",
       "      <th>4</th>\n",
       "      <td>고혈압 전단계 약 복용</td>\n",
       "      <td>2차병원에서 고혈압 전단계로 진단받았습니다. 의사 선생님께서 아침에 먹는 고혈압 약...</td>\n",
       "      <td>순환기내과</td>\n",
       "      <td>2023.09.23</td>\n",
       "    </tr>\n",
       "    <tr>\n",
       "      <th>...</th>\n",
       "      <td>...</td>\n",
       "      <td>...</td>\n",
       "      <td>...</td>\n",
       "      <td>...</td>\n",
       "    </tr>\n",
       "    <tr>\n",
       "      <th>95</th>\n",
       "      <td>혈류개선제 추천 서큘플렉스 좋음? (서울 50대초반/남자 혈류개선제)</td>\n",
       "      <td>안녕하십니까. 올해 50살 접어든 남성입니다.　요즘들어 혈압이 높게 나와 걱정입니다...</td>\n",
       "      <td>성인영양</td>\n",
       "      <td>2023.10.12</td>\n",
       "    </tr>\n",
       "    <tr>\n",
       "      <th>96</th>\n",
       "      <td>공부하는데 모르겠어요ㅠㅠ</td>\n",
       "      <td>미각이 감퇴하고 고혈압을 앓고있는 노년기 어르신을 위한 맞춤형 영양관리를 할 때 육...</td>\n",
       "      <td>성인영양</td>\n",
       "      <td>2023.10.08</td>\n",
       "    </tr>\n",
       "    <tr>\n",
       "      <th>97</th>\n",
       "      <td>혈압측정에 관해 문의드립니다.</td>\n",
       "      <td>제가 고혈압은 아닌데 이번에 건강검진을 하면서 혈압수치가 140이 나오니 간호사분이...</td>\n",
       "      <td>순환기내과</td>\n",
       "      <td>2023.10.12</td>\n",
       "    </tr>\n",
       "    <tr>\n",
       "      <th>98</th>\n",
       "      <td>혈압약 다른 성분과 함께 복용해도 되나요. (경기  30대초반/여 콜레스테롤수치 )</td>\n",
       "      <td>얼마전에 고혈압 판정을 받아서 관리를 해보려고 하는데요.당장 어떤 것 부터 해야할 ...</td>\n",
       "      <td>영양제, 건강보조식품</td>\n",
       "      <td>2023.10.13</td>\n",
       "    </tr>\n",
       "    <tr>\n",
       "      <th>99</th>\n",
       "      <td>인데놀정 복용</td>\n",
       "      <td>혈압은 정상인데 평상시 맥박이 좀 빠른 편이라 (100~110)인데놀정을 처방 받았...</td>\n",
       "      <td>순환기내과</td>\n",
       "      <td>2023.10.05</td>\n",
       "    </tr>\n",
       "  </tbody>\n",
       "</table>\n",
       "<p>100 rows × 4 columns</p>\n",
       "</div>"
      ],
      "text/plain": [
       "                                                title  \\\n",
       "0   고혈압 낮추는 방법 중에 효과 제일 좋은 게 어떤건가요?  (안산시 60대초반/여 ...   \n",
       "1        고혈압도 있고 당뇨도 있는 60대인데 발기부전이 있습니다. 치료 방법 있을까요?   \n",
       "2   고혈압 수치 가까울 때 먹는 영양제 어떻게 골라야하나요? (구로구 30대중반/남 고혈압)   \n",
       "3                                              고혈압 처방   \n",
       "4                                        고혈압 전단계 약 복용   \n",
       "..                                                ...   \n",
       "95             혈류개선제 추천 서큘플렉스 좋음? (서울 50대초반/남자 혈류개선제)   \n",
       "96                                      공부하는데 모르겠어요ㅠㅠ   \n",
       "97                                   혈압측정에 관해 문의드립니다.   \n",
       "98     혈압약 다른 성분과 함께 복용해도 되나요. (경기  30대초반/여 콜레스테롤수치 )   \n",
       "99                                            인데놀정 복용   \n",
       "\n",
       "                                              content                 tag  \\\n",
       "0   혈압 142/93으로1단계 고혈압인데요고혈압 낮추는 방법 중에효과 제일 좋은 게 어...                질환영양   \n",
       "1   고혈압약과 당뇨약을 꽤 오랜기간 복용하고 있는 60대입니다.발기가 온전치가 않아서 ...                한방내과   \n",
       "2   혈압 체크했는데 131/86으로고혈압 수치에 가까운데 먹는 영양제 어떻게 골라야하나...                질환영양   \n",
       "3   고혈압을 진단받고 약을 처방 받는데 그러면 그 약을 다 먹고 나서도 다시 병원가서 ...  순환기내과\\n#고혈압약\\n#고혈압   \n",
       "4   2차병원에서 고혈압 전단계로 진단받았습니다. 의사 선생님께서 아침에 먹는 고혈압 약...               순환기내과   \n",
       "..                                                ...                 ...   \n",
       "95  안녕하십니까. 올해 50살 접어든 남성입니다.　요즘들어 혈압이 높게 나와 걱정입니다...                성인영양   \n",
       "96  미각이 감퇴하고 고혈압을 앓고있는 노년기 어르신을 위한 맞춤형 영양관리를 할 때 육...                성인영양   \n",
       "97  제가 고혈압은 아닌데 이번에 건강검진을 하면서 혈압수치가 140이 나오니 간호사분이...               순환기내과   \n",
       "98  얼마전에 고혈압 판정을 받아서 관리를 해보려고 하는데요.당장 어떤 것 부터 해야할 ...         영양제, 건강보조식품   \n",
       "99  혈압은 정상인데 평상시 맥박이 좀 빠른 편이라 (100~110)인데놀정을 처방 받았...               순환기내과   \n",
       "\n",
       "          date  \n",
       "0   2023.10.06  \n",
       "1   2023.10.06  \n",
       "2   2023.10.10  \n",
       "3   2023.10.09  \n",
       "4   2023.09.23  \n",
       "..         ...  \n",
       "95  2023.10.12  \n",
       "96  2023.10.08  \n",
       "97  2023.10.12  \n",
       "98  2023.10.13  \n",
       "99  2023.10.05  \n",
       "\n",
       "[100 rows x 4 columns]"
      ]
     },
     "execution_count": 7,
     "metadata": {},
     "output_type": "execute_result"
    }
   ],
   "source": [
    "tmp_df"
   ]
  },
  {
   "cell_type": "code",
   "execution_count": 7,
   "id": "92be59c0-30e2-402e-a299-6916471d25b4",
   "metadata": {
    "tags": []
   },
   "outputs": [],
   "source": [
    "driver = wd.Chrome()"
   ]
  },
  {
   "cell_type": "code",
   "execution_count": 71,
   "id": "09eb2582-dd57-4c1c-a9b6-44d6a4294fad",
   "metadata": {
    "tags": []
   },
   "outputs": [
    {
     "name": "stdout",
     "output_type": "stream",
     "text": [
      "\n",
      "\t\t\t\t\t\t\t\n",
      "\t\t\t\t\t\t\t\t\n",
      "\t\t\t\t\t\t\t\t\n",
      "\t\t\t\t\t\t\t\t\n",
      "\t\t\t\t\t\t\t\t\t고혈압 처방\n",
      "\t\t\t\t\t\t\t\t\n",
      "\t\t\t\t\t\t\t\n",
      "\t\t\t\t\t\t \n",
      "\t\t\t\t\t\t고혈압을 진단받고 약을 처방 받는데 그러면 그 약을 다 먹고 나서도 다시 병원가서 다시 처방 받고 또 사야하나요? 아니면 한번 진단 받은 진단서를 가지고 약국 가서 약을 타오면 되나요?\n",
      "\t\t\t\t\t \n",
      "\t\t\t\t\t\t고혈압을 진단받고 약을 처방 받는데 그러면 그 약을 다 먹고 나서도 다시 병원가서 다시 처방 받고 또 사야하나요? 아니면 한번 진단 받은 진단서를 가지고 약국 가서 약을 타오면 되나요?\n",
      "\t\t\t\t\t\n"
     ]
    }
   ],
   "source": [
    "driver.get(test_url2)\n",
    "        \n",
    "html = driver.page_source\n",
    "soup = bs(html, 'html.parser')\n",
    "\n",
    "question_div = soup.select('div.question-content')\n",
    "answer_div = soup.select('.answer-content__list._answerList')\n",
    "\n",
    "title = question_div[0].select('div > div:nth-child(1) > .title')[0].text\n",
    "content = question_div[0].select('div > div:nth-child(1) > .c-heading__content')[0].text\n",
    "tag = question_div[0].select('div > div:nth-child(3)')[0].text\n",
    "print(title, content, tag)"
   ]
  },
  {
   "cell_type": "code",
   "execution_count": null,
   "id": "43925643-b71e-4184-ad78-4b1b5548a44d",
   "metadata": {},
   "outputs": [
    {
     "data": {
      "text/plain": [
       "'작성일2023.10.09'"
      ]
     },
     "execution_count": 93,
     "metadata": {},
     "output_type": "execute_result"
    }
   ],
   "source": [
    "question_div = soup.select('div.question-content > div > div:nth-child(3)')[0].select('.c-userinfo__info')[0].text\n",
    "question_div"
   ]
  },
  {
   "cell_type": "code",
   "execution_count": null,
   "id": "b3ba529b-a81e-4a8f-8769-57e7a7409cb9",
   "metadata": {},
   "outputs": [],
   "source": []
  }
 ],
 "metadata": {
  "kernelspec": {
   "display_name": "Python 3 (ipykernel)",
   "language": "python",
   "name": "python3"
  },
  "language_info": {
   "codemirror_mode": {
    "name": "ipython",
    "version": 3
   },
   "file_extension": ".py",
   "mimetype": "text/x-python",
   "name": "python",
   "nbconvert_exporter": "python",
   "pygments_lexer": "ipython3",
   "version": "3.11.5"
  }
 },
 "nbformat": 4,
 "nbformat_minor": 5
}
